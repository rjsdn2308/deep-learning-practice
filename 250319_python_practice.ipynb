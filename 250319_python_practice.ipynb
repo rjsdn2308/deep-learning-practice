{
  "nbformat": 4,
  "nbformat_minor": 0,
  "metadata": {
    "colab": {
      "provenance": [],
      "include_colab_link": true
    },
    "kernelspec": {
      "name": "python3",
      "display_name": "Python 3"
    },
    "language_info": {
      "name": "python"
    }
  },
  "cells": [
    {
      "cell_type": "markdown",
      "metadata": {
        "id": "view-in-github",
        "colab_type": "text"
      },
      "source": [
        "<a href=\"https://colab.research.google.com/github/rjsdn2308/deep-learning-practice/blob/main/250319_python_practice.ipynb\" target=\"_parent\"><img src=\"https://colab.research.google.com/assets/colab-badge.svg\" alt=\"Open In Colab\"/></a>"
      ]
    },
    {
      "cell_type": "markdown",
      "source": [
        "# Numpy 실습\n",
        "배열 연산을 빠르게 수행할 수 있도록 도와주는 라이브러리"
      ],
      "metadata": {
        "id": "O0Op_eEWBHNZ"
      }
    },
    {
      "cell_type": "code",
      "execution_count": 1,
      "metadata": {
        "colab": {
          "base_uri": "https://localhost:8080/"
        },
        "id": "tizIV_DfBGPy",
        "outputId": "77f14466-975a-43b9-ac84-d36612998a61"
      },
      "outputs": [
        {
          "output_type": "stream",
          "name": "stdout",
          "text": [
            "[1 2 3 4]\n"
          ]
        }
      ],
      "source": [
        "import numpy as np\n",
        "\n",
        "# 1차원 배열 생성\n",
        "arr = np.array([1, 2, 3, 4])\n",
        "print(arr)  # [1 2 3 4]"
      ]
    },
    {
      "cell_type": "code",
      "source": [
        "print(arr.shape)  # 배열의 형태 출력\n",
        "print(arr.size)   # 배열의 원소 개수 출력\n",
        "print(arr.dtype)  # 데이터 타입 출력"
      ],
      "metadata": {
        "colab": {
          "base_uri": "https://localhost:8080/"
        },
        "id": "pkHheEvDBYmr",
        "outputId": "286df015-5894-40f1-bd5c-2e78516994da"
      },
      "execution_count": 2,
      "outputs": [
        {
          "output_type": "stream",
          "name": "stdout",
          "text": [
            "(4,)\n",
            "4\n",
            "int64\n"
          ]
        }
      ]
    },
    {
      "cell_type": "markdown",
      "source": [
        "# Python Print Format"
      ],
      "metadata": {
        "id": "xIFGt-NGCRMu"
      }
    },
    {
      "cell_type": "code",
      "source": [
        "print(\"안녕하세요, 머신러닝 수업입니다!\")"
      ],
      "metadata": {
        "colab": {
          "base_uri": "https://localhost:8080/"
        },
        "id": "WwFYuZNCCUnG",
        "outputId": "2492747e-0b3f-444a-fd19-c42dfd655ced"
      },
      "execution_count": 3,
      "outputs": [
        {
          "output_type": "stream",
          "name": "stdout",
          "text": [
            "안녕하세요, 머신러닝 수업입니다!\n"
          ]
        }
      ]
    },
    {
      "cell_type": "code",
      "source": [
        "fruits = [\"사과\", \"바나나\", \"키위\"]\n",
        "for fruit in fruits:\n",
        "    print(fruit)"
      ],
      "metadata": {
        "colab": {
          "base_uri": "https://localhost:8080/"
        },
        "id": "BJWJFfvwCjsU",
        "outputId": "e968c0ce-d9fb-4eb8-efd8-24d7c9d865b0"
      },
      "execution_count": 4,
      "outputs": [
        {
          "output_type": "stream",
          "name": "stdout",
          "text": [
            "사과\n",
            "바나나\n",
            "키위\n"
          ]
        }
      ]
    },
    {
      "cell_type": "code",
      "source": [
        "print(\"머신러닝 점수는 %d 점 입니다.\" % 85)\n",
        "print(\"%s의 점수는 70 점 입니다.\" % \"김정은\") # 자기 이름 넣어서 실행\n",
        "print(\"%s의 점수는 %d 점 입니다. %s\" % (\"김정은\",85,\"합격!\")) # 자기 이름 넣어서 실행"
      ],
      "metadata": {
        "colab": {
          "base_uri": "https://localhost:8080/"
        },
        "id": "cT3C9lLWGCG7",
        "outputId": "c62963b5-a31c-4627-9825-af62a2a31710"
      },
      "execution_count": 5,
      "outputs": [
        {
          "output_type": "stream",
          "name": "stdout",
          "text": [
            "머신러닝 점수는 85 점 입니다.\n",
            "김정은의 점수는 70 점 입니다.\n",
            "김정은의 점수는 85 점 입니다. 합격!\n"
          ]
        }
      ]
    },
    {
      "cell_type": "markdown",
      "source": [
        "# Python for 문"
      ],
      "metadata": {
        "id": "GpI5fa9CEoSj"
      }
    },
    {
      "cell_type": "code",
      "source": [
        "for i in range(10):\n",
        "    print(i)"
      ],
      "metadata": {
        "colab": {
          "base_uri": "https://localhost:8080/"
        },
        "id": "NmkFsz8QD6Za",
        "outputId": "96cd6d67-b3ae-4960-b203-31424c79a4db"
      },
      "execution_count": 6,
      "outputs": [
        {
          "output_type": "stream",
          "name": "stdout",
          "text": [
            "0\n",
            "1\n",
            "2\n",
            "3\n",
            "4\n",
            "5\n",
            "6\n",
            "7\n",
            "8\n",
            "9\n"
          ]
        }
      ]
    },
    {
      "cell_type": "code",
      "source": [
        "for i in range(10):\n",
        "    print(i, end=\" \")  # end=\" \"를 사용하면 줄바꿈 없이 출력"
      ],
      "metadata": {
        "colab": {
          "base_uri": "https://localhost:8080/"
        },
        "id": "gX-AzsrOED6b",
        "outputId": "ecd30f4c-9901-42cc-d7ef-54267b90b4d6"
      },
      "execution_count": 7,
      "outputs": [
        {
          "output_type": "stream",
          "name": "stdout",
          "text": [
            "0 1 2 3 4 5 6 7 8 9 "
          ]
        }
      ]
    },
    {
      "cell_type": "code",
      "source": [
        "for idx, fruit in enumerate(fruits):\n",
        "    print(f\"{idx}: {fruit}\")"
      ],
      "metadata": {
        "colab": {
          "base_uri": "https://localhost:8080/"
        },
        "id": "OqJEOXEpEJpX",
        "outputId": "4f328ada-21c7-4688-8b58-305220a311ef"
      },
      "execution_count": 8,
      "outputs": [
        {
          "output_type": "stream",
          "name": "stdout",
          "text": [
            "0: 사과\n",
            "1: 바나나\n",
            "2: 키위\n"
          ]
        }
      ]
    },
    {
      "cell_type": "markdown",
      "source": [
        "### 리스트 내포\n",
        "- 파이썬에서 리스트를 생성하고 초기화하는 방법\n",
        "- 반복문과 조건문을 결합하여 리스트를 한 줄로 생성할 수 있음"
      ],
      "metadata": {
        "id": "6JqssQ19EaJS"
      }
    },
    {
      "cell_type": "code",
      "source": [
        "squares = [x**2 for x in range(1, 6)]\n",
        "print(squares)"
      ],
      "metadata": {
        "colab": {
          "base_uri": "https://localhost:8080/"
        },
        "id": "0K9dAlFkEV6_",
        "outputId": "61a67282-969a-4467-cfb1-b8b67352d5ad"
      },
      "execution_count": 9,
      "outputs": [
        {
          "output_type": "stream",
          "name": "stdout",
          "text": [
            "[1, 4, 9, 16, 25]\n"
          ]
        }
      ]
    },
    {
      "cell_type": "markdown",
      "source": [
        "# 실습문제"
      ],
      "metadata": {
        "id": "wRT1PuwVE2Cv"
      }
    },
    {
      "cell_type": "markdown",
      "source": [
        "## 1. f string format을 활용해 아래와 같은 결과를 출력하세요\n",
        "출력 예시\n",
        "\n",
        "0교시 수업은 머신러닝입니다.\n",
        "\n",
        "1교시 수업은 딥러닝입니다."
      ],
      "metadata": {
        "id": "8DsqxuL5E4BQ"
      }
    },
    {
      "cell_type": "code",
      "source": [
        "my_list = [\"머신러닝\", \"딥러닝\"]\n",
        "for i in range(len(my_list)):\n",
        "    print(f\"{i}교시 수업은 {my_list[i]}입니다.\")\n",
        "\n",
        "# for문 작성\n",
        "# f string format print"
      ],
      "metadata": {
        "id": "Ut3uQlqmFX5j",
        "colab": {
          "base_uri": "https://localhost:8080/"
        },
        "outputId": "1d4b2ccb-97b2-4b69-8a12-7e1b94bddcfb"
      },
      "execution_count": 10,
      "outputs": [
        {
          "output_type": "stream",
          "name": "stdout",
          "text": [
            "0교시 수업은 머신러닝입니다.\n",
            "1교시 수업은 딥러닝입니다.\n"
          ]
        }
      ]
    },
    {
      "cell_type": "markdown",
      "source": [
        "## 2. 리스트를 제곱해서 출력하는 코드를 작성하세요.\n",
        "1부터 10까지의 숫자를 담고 있는 리스트가 있습니다. 각 숫자의 제곱을 출력하는 코드를 작성하세요.\n",
        "\n",
        "출력 예시\n",
        "\n",
        "1의 제곱은 1입니다.\n",
        "\n",
        "2의 제곱은 4입니다.\n",
        "\n",
        "3의 제곱은 9입니다.\n",
        "\n",
        "...\n",
        "\n",
        "10의 제곱은 100입니다."
      ],
      "metadata": {
        "id": "-s956O2BGpKo"
      }
    },
    {
      "cell_type": "code",
      "source": [
        "numbers = list(range(1, 11))\n",
        "for i in numbers:\n",
        "    print(f\"{i}의 제곱은 {i**2}입니다.\")\n",
        "# 출력하기"
      ],
      "metadata": {
        "id": "LaJgb8JxG8cO",
        "colab": {
          "base_uri": "https://localhost:8080/"
        },
        "outputId": "ec371918-4266-4153-fc1a-b700e5a01cc5"
      },
      "execution_count": 11,
      "outputs": [
        {
          "output_type": "stream",
          "name": "stdout",
          "text": [
            "1의 제곱은 1입니다.\n",
            "2의 제곱은 4입니다.\n",
            "3의 제곱은 9입니다.\n",
            "4의 제곱은 16입니다.\n",
            "5의 제곱은 25입니다.\n",
            "6의 제곱은 36입니다.\n",
            "7의 제곱은 49입니다.\n",
            "8의 제곱은 64입니다.\n",
            "9의 제곱은 81입니다.\n",
            "10의 제곱은 100입니다.\n"
          ]
        }
      ]
    }
  ]
}