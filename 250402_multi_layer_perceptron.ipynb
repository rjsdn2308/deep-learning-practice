{
  "nbformat": 4,
  "nbformat_minor": 0,
  "metadata": {
    "colab": {
      "provenance": [],
      "include_colab_link": true
    },
    "kernelspec": {
      "name": "python3",
      "display_name": "Python 3"
    },
    "language_info": {
      "name": "python"
    }
  },
  "cells": [
    {
      "cell_type": "markdown",
      "metadata": {
        "id": "view-in-github",
        "colab_type": "text"
      },
      "source": [
        "<a href=\"https://colab.research.google.com/github/rjsdn2308/deep-learning-practice/blob/main/250402_multi_layer_perceptron.ipynb\" target=\"_parent\"><img src=\"https://colab.research.google.com/assets/colab-badge.svg\" alt=\"Open In Colab\"/></a>"
      ]
    },
    {
      "cell_type": "markdown",
      "source": [
        "# Numpy 기초 실습"
      ],
      "metadata": {
        "id": "KCKM3Y7FIbht"
      }
    },
    {
      "cell_type": "markdown",
      "source": [
        "## List to Numpy Array"
      ],
      "metadata": {
        "id": "BZM4raj2OsUj"
      }
    },
    {
      "cell_type": "code",
      "execution_count": null,
      "metadata": {
        "id": "g1koiUYhICMu"
      },
      "outputs": [],
      "source": [
        "import numpy as np"
      ]
    },
    {
      "cell_type": "code",
      "source": [
        "test = np.array([[1,2,3], [4,5,6]])\n",
        "test"
      ],
      "metadata": {
        "id": "l3oAg5vFIeFx",
        "outputId": "2808de23-ae2b-44ac-fb7e-bd32b1b4c10f",
        "colab": {
          "base_uri": "https://localhost:8080/"
        }
      },
      "execution_count": null,
      "outputs": [
        {
          "output_type": "execute_result",
          "data": {
            "text/plain": [
              "array([[1, 2, 3],\n",
              "       [4, 5, 6]])"
            ]
          },
          "metadata": {},
          "execution_count": 34
        }
      ]
    },
    {
      "cell_type": "markdown",
      "source": [
        "### 문제1 : 아래 list 3개를 각각 행으로 갖는 배열을 생성하는 코드를 완성하고 배열의 크기를 print 하세요"
      ],
      "metadata": {
        "id": "3NI3EK4eS3w0"
      }
    },
    {
      "cell_type": "code",
      "source": [
        "list1 = [1,2,3,4]\n",
        "list2 = [5,6,7,8]\n",
        "list3 = [9,10,11,12]\n",
        "\n",
        "arr = np.array([list1, list2, list3])\n",
        "\n",
        "print(arr)\n",
        "print(arr.shape)"
      ],
      "metadata": {
        "colab": {
          "base_uri": "https://localhost:8080/"
        },
        "id": "llyjyRFlO07T",
        "outputId": "d5599191-73ad-4a5b-c7a6-f72d00fa4fe5"
      },
      "execution_count": null,
      "outputs": [
        {
          "output_type": "stream",
          "name": "stdout",
          "text": [
            "[[ 1  2  3  4]\n",
            " [ 5  6  7  8]\n",
            " [ 9 10 11 12]]\n",
            "(3, 4)\n"
          ]
        }
      ]
    },
    {
      "cell_type": "markdown",
      "source": [
        "## Reshape"
      ],
      "metadata": {
        "id": "_42lJZZqQ8Iq"
      }
    },
    {
      "cell_type": "code",
      "source": [
        "arr16 = np.array(list(range(16))).reshape((4,4))\n",
        "arr16"
      ],
      "metadata": {
        "colab": {
          "base_uri": "https://localhost:8080/"
        },
        "id": "7txsOkorOwSa",
        "outputId": "9b528c80-0a9d-43a9-c553-fb2a8cfba6a1"
      },
      "execution_count": null,
      "outputs": [
        {
          "output_type": "execute_result",
          "data": {
            "text/plain": [
              "array([[ 0,  1,  2,  3],\n",
              "       [ 4,  5,  6,  7],\n",
              "       [ 8,  9, 10, 11],\n",
              "       [12, 13, 14, 15]])"
            ]
          },
          "metadata": {},
          "execution_count": 36
        }
      ]
    },
    {
      "cell_type": "markdown",
      "source": [
        "### 문제2 : 0부터 15까지의 숫자를 원소로 갖는 배열을 아래의 형태로 만드는 코드를 작성해보세요"
      ],
      "metadata": {
        "id": "DAUCn6vtS9Zw"
      }
    },
    {
      "cell_type": "code",
      "source": [
        "# [[ 0,  1],\n",
        "# [ 2,  3],\n",
        "# [ 4,  5],\n",
        "# [ 6,  7],\n",
        "# [ 8,  9],\n",
        "# [10, 11],\n",
        "# [12, 13],\n",
        "# [14, 15]]\n",
        "\n",
        "arr16_reshaped = arr16.reshape((8,2))\n",
        "print(arr16_reshaped)"
      ],
      "metadata": {
        "colab": {
          "base_uri": "https://localhost:8080/"
        },
        "id": "Nb3XPc0EQcyP",
        "outputId": "7cf0c178-0282-45f3-e191-137af935abbe"
      },
      "execution_count": null,
      "outputs": [
        {
          "output_type": "stream",
          "name": "stdout",
          "text": [
            "[[ 0  1]\n",
            " [ 2  3]\n",
            " [ 4  5]\n",
            " [ 6  7]\n",
            " [ 8  9]\n",
            " [10 11]\n",
            " [12 13]\n",
            " [14 15]]\n"
          ]
        }
      ]
    },
    {
      "cell_type": "markdown",
      "source": [
        "## 0 or 1 값 채우기"
      ],
      "metadata": {
        "id": "saqa0r5HRC0p"
      }
    },
    {
      "cell_type": "code",
      "source": [
        "filled_one = np.ones(16)\n",
        "# ones의 특정값을 채우기 위해서 1로 채울 수 가 있습니다.\n",
        "filled_one"
      ],
      "metadata": {
        "colab": {
          "base_uri": "https://localhost:8080/"
        },
        "id": "zi8SkccPRKEm",
        "outputId": "941d6b85-c99c-44da-a79b-90da559a0bc2"
      },
      "execution_count": null,
      "outputs": [
        {
          "output_type": "execute_result",
          "data": {
            "text/plain": [
              "array([1., 1., 1., 1., 1., 1., 1., 1., 1., 1., 1., 1., 1., 1., 1., 1.])"
            ]
          },
          "metadata": {},
          "execution_count": 38
        }
      ]
    },
    {
      "cell_type": "code",
      "source": [
        "filled_zero = np.zeros((2,5))\n",
        "filled_zero"
      ],
      "metadata": {
        "colab": {
          "base_uri": "https://localhost:8080/"
        },
        "id": "695GN0E_RL5G",
        "outputId": "40dce223-4e9f-433a-e8f0-143bcbd3524c"
      },
      "execution_count": null,
      "outputs": [
        {
          "output_type": "execute_result",
          "data": {
            "text/plain": [
              "array([[0., 0., 0., 0., 0.],\n",
              "       [0., 0., 0., 0., 0.]])"
            ]
          },
          "metadata": {},
          "execution_count": 39
        }
      ]
    },
    {
      "cell_type": "code",
      "source": [
        "filled_like_arr16 = np.ones_like(arr16)\n",
        "filled_like_arr16\n",
        "# ones_like를 사용하여 배열 형성"
      ],
      "metadata": {
        "colab": {
          "base_uri": "https://localhost:8080/"
        },
        "id": "5hoOf65CRHD-",
        "outputId": "37c7b18e-bfdf-49aa-d987-090cf6a80905"
      },
      "execution_count": null,
      "outputs": [
        {
          "output_type": "execute_result",
          "data": {
            "text/plain": [
              "array([[1, 1, 1, 1],\n",
              "       [1, 1, 1, 1],\n",
              "       [1, 1, 1, 1],\n",
              "       [1, 1, 1, 1]])"
            ]
          },
          "metadata": {},
          "execution_count": 40
        }
      ]
    },
    {
      "cell_type": "markdown",
      "source": [
        "### 문제 3 : 아래 형태를 갖는 배열을 만드는 코드를 작성해보세요\n",
        "- ones, zeros, reshape 사용\n",
        "- 성공했으면 concatenate의 axis를 0으로 바꿔보고 어떤 동작을 하는지 적어보세요"
      ],
      "metadata": {
        "id": "FbJ_pfUrTDtR"
      }
    },
    {
      "cell_type": "code",
      "source": [
        "# arr_with_one 배열 참고\n",
        "# [[1., 1.],\n",
        "# [1., 1.],\n",
        "# [1., 1.],\n",
        "# [1., 1.]]\n",
        "\n",
        "# arr_with_zero 배열 참고\n",
        "# [[0., 0.],\n",
        "# [0., 0.],\n",
        "# [0., 0.],\n",
        "# [0., 0.]]\n",
        "\n",
        "# arr_with_one_zero 배열 참고\n",
        "# [[1., 1., 0., 0.],\n",
        "# [1., 1., 0., 0.],\n",
        "# [1., 1., 0., 0.],\n",
        "# [1., 1., 0., 0.]]\n",
        "\n",
        "# 다른 셀 실행 결과 값\n",
        "# concatenate의 axis를 1로 바꿔보고 어떤 동작을 하는지 적어보세요.\n",
        "# array([[1., 1., 0., 0.],\n",
        "       #[1., 1., 0., 0.],\n",
        "       #[1., 1., 0., 0.],\n",
        "       #[1., 1., 0., 0.]])\n",
        "\n",
        "arr_with_one = np.ones((4,2))\n",
        "arr_with_zero = np.zeros((4,2))\n",
        "arr_with_one_zero = np.concatenate((arr_with_one, arr_with_zero), axis=0) # 수평으로 배열 합치기\n",
        "arr_with_one_zero"
      ],
      "metadata": {
        "colab": {
          "base_uri": "https://localhost:8080/"
        },
        "id": "cgChTODOS1LU",
        "outputId": "9d1830c0-35e2-43df-d229-af96f5b7004b"
      },
      "execution_count": null,
      "outputs": [
        {
          "output_type": "execute_result",
          "data": {
            "text/plain": [
              "array([[1., 1.],\n",
              "       [1., 1.],\n",
              "       [1., 1.],\n",
              "       [1., 1.],\n",
              "       [0., 0.],\n",
              "       [0., 0.],\n",
              "       [0., 0.],\n",
              "       [0., 0.]])"
            ]
          },
          "metadata": {},
          "execution_count": 41
        }
      ]
    },
    {
      "cell_type": "markdown",
      "source": [
        "## Broadcasting"
      ],
      "metadata": {
        "id": "SjUfnuZsU7qo"
      }
    },
    {
      "cell_type": "code",
      "source": [
        "bc = np.ones(25).reshape((5,5))\n",
        "bc = bc * 5 - 1\n",
        "bc"
      ],
      "metadata": {
        "colab": {
          "base_uri": "https://localhost:8080/"
        },
        "id": "0fevWabMU4ow",
        "outputId": "d48a282b-251a-40f4-8ff0-bf85be7eae1e"
      },
      "execution_count": null,
      "outputs": [
        {
          "output_type": "execute_result",
          "data": {
            "text/plain": [
              "array([[4., 4., 4., 4., 4.],\n",
              "       [4., 4., 4., 4., 4.],\n",
              "       [4., 4., 4., 4., 4.],\n",
              "       [4., 4., 4., 4., 4.],\n",
              "       [4., 4., 4., 4., 4.]])"
            ]
          },
          "metadata": {},
          "execution_count": 42
        }
      ]
    },
    {
      "cell_type": "code",
      "source": [
        "bc2 = bc * 0 + 3\n",
        "bc + bc2"
      ],
      "metadata": {
        "colab": {
          "base_uri": "https://localhost:8080/"
        },
        "id": "d_-NYyHiVV2k",
        "outputId": "512aaa67-260c-4166-cf50-c794a2cef886"
      },
      "execution_count": null,
      "outputs": [
        {
          "output_type": "execute_result",
          "data": {
            "text/plain": [
              "array([[7., 7., 7., 7., 7.],\n",
              "       [7., 7., 7., 7., 7.],\n",
              "       [7., 7., 7., 7., 7.],\n",
              "       [7., 7., 7., 7., 7.],\n",
              "       [7., 7., 7., 7., 7.]])"
            ]
          },
          "metadata": {},
          "execution_count": 43
        }
      ]
    },
    {
      "cell_type": "code",
      "source": [
        "one_dim_arr = [5, 5, 5, 5, 5] # 1차원 배열\n",
        "new_bc = bc + one_dim_arr # 1차원 배열 + 2차원 배열\n",
        "new_bc # 두 개의 차원을 합친 배열보다 높게 나오는 것을 말합니다."
      ],
      "metadata": {
        "colab": {
          "base_uri": "https://localhost:8080/"
        },
        "id": "WTCCfB42VqM0",
        "outputId": "95f51729-6135-4575-8369-c990a02b1acd"
      },
      "execution_count": null,
      "outputs": [
        {
          "output_type": "execute_result",
          "data": {
            "text/plain": [
              "array([[9., 9., 9., 9., 9.],\n",
              "       [9., 9., 9., 9., 9.],\n",
              "       [9., 9., 9., 9., 9.],\n",
              "       [9., 9., 9., 9., 9.],\n",
              "       [9., 9., 9., 9., 9.]])"
            ]
          },
          "metadata": {},
          "execution_count": 44
        }
      ]
    },
    {
      "cell_type": "markdown",
      "source": [
        "## Slicing"
      ],
      "metadata": {
        "id": "bam-pV95XlMe"
      }
    },
    {
      "cell_type": "code",
      "source": [
        "print(arr16)"
      ],
      "metadata": {
        "colab": {
          "base_uri": "https://localhost:8080/"
        },
        "id": "kIPoNUNHXoSE",
        "outputId": "31e15148-18a4-43aa-b49b-8e5fe868d29b"
      },
      "execution_count": null,
      "outputs": [
        {
          "output_type": "stream",
          "name": "stdout",
          "text": [
            "[[ 0  1  2  3]\n",
            " [ 4  5  6  7]\n",
            " [ 8  9 10 11]\n",
            " [12 13 14 15]]\n"
          ]
        }
      ]
    },
    {
      "cell_type": "code",
      "source": [
        "arr16[2] # 2번째 index의 행을 가져오는 것입니다."
      ],
      "metadata": {
        "colab": {
          "base_uri": "https://localhost:8080/"
        },
        "id": "AOAl51ENX4BR",
        "outputId": "16af693a-146b-42b6-b4dd-ec5378f0352f"
      },
      "execution_count": null,
      "outputs": [
        {
          "output_type": "execute_result",
          "data": {
            "text/plain": [
              "array([ 8,  9, 10, 11])"
            ]
          },
          "metadata": {},
          "execution_count": 46
        }
      ]
    },
    {
      "cell_type": "code",
      "source": [
        "arr16[2,:] # 첫번째 셀과 동일한 값을 가져오는 것입니다."
      ],
      "metadata": {
        "colab": {
          "base_uri": "https://localhost:8080/"
        },
        "id": "UtTGQhkFX7eA",
        "outputId": "8067df6d-60ce-4236-aafc-007b852b5755"
      },
      "execution_count": null,
      "outputs": [
        {
          "output_type": "execute_result",
          "data": {
            "text/plain": [
              "array([ 8,  9, 10, 11])"
            ]
          },
          "metadata": {},
          "execution_count": 47
        }
      ]
    },
    {
      "cell_type": "code",
      "source": [
        "arr16[:,2] # 모든 행에서 열의 2번째 인덱스들을 가져오는 것입니다."
      ],
      "metadata": {
        "colab": {
          "base_uri": "https://localhost:8080/"
        },
        "id": "mhwqHG0WYCOf",
        "outputId": "50ed842c-c54c-4d37-a97a-7200261ec56f"
      },
      "execution_count": null,
      "outputs": [
        {
          "output_type": "execute_result",
          "data": {
            "text/plain": [
              "array([ 2,  6, 10, 14])"
            ]
          },
          "metadata": {},
          "execution_count": 48
        }
      ]
    },
    {
      "cell_type": "code",
      "source": [
        "print(arr16[0:2]) #0번째행부터 1번행까지 값을 가져오는 것입니다.\n",
        "print(arr16[0,2]) # 0번째행에서 2열의 값을 가져오는 것입니다."
      ],
      "metadata": {
        "colab": {
          "base_uri": "https://localhost:8080/"
        },
        "id": "mQKj_5KJYFou",
        "outputId": "d85af368-89d1-4dff-8aee-0409db57f782"
      },
      "execution_count": null,
      "outputs": [
        {
          "output_type": "stream",
          "name": "stdout",
          "text": [
            "[[0 1 2 3]\n",
            " [4 5 6 7]]\n",
            "2\n"
          ]
        }
      ]
    },
    {
      "cell_type": "code",
      "source": [
        "arr16[1:3]"
      ],
      "metadata": {
        "colab": {
          "base_uri": "https://localhost:8080/"
        },
        "id": "Zm7kGKN6YKZH",
        "outputId": "269f3344-643b-4154-a3f9-6e23f25fec08"
      },
      "execution_count": null,
      "outputs": [
        {
          "output_type": "execute_result",
          "data": {
            "text/plain": [
              "array([[ 4,  5,  6,  7],\n",
              "       [ 8,  9, 10, 11]])"
            ]
          },
          "metadata": {},
          "execution_count": 50
        }
      ]
    },
    {
      "cell_type": "code",
      "source": [
        "arr16[arr16[:,0]<5] # 전체 값에서 5보다 작은 열을 불러내서 말하는 것입니다."
      ],
      "metadata": {
        "colab": {
          "base_uri": "https://localhost:8080/"
        },
        "id": "qGCo_DOuYX4I",
        "outputId": "5c9c2f8a-d546-4525-b285-827349669a07"
      },
      "execution_count": null,
      "outputs": [
        {
          "output_type": "execute_result",
          "data": {
            "text/plain": [
              "array([[0, 1, 2, 3],\n",
              "       [4, 5, 6, 7]])"
            ]
          },
          "metadata": {},
          "execution_count": 51
        }
      ]
    },
    {
      "cell_type": "markdown",
      "source": [
        "### 문제 4 : 3번째 열에서(index=2) 10보다 크거나 같은 원소가 있는 행 전체를 담는 배열을 생성해보세요"
      ],
      "metadata": {
        "id": "_0E3g_8eY6sR"
      }
    },
    {
      "cell_type": "code",
      "source": [
        "# 결과\n",
        "# [ 8,  9, 10, 11],\n",
        "# [12, 13, 14, 15]]\n",
        "\n",
        "test_arr = arr16[2:4]\n",
        "test_arr"
      ],
      "metadata": {
        "colab": {
          "base_uri": "https://localhost:8080/"
        },
        "id": "3EkzmxahYjEK",
        "outputId": "bd7a434c-e175-4a4f-df6d-4972b27fa394"
      },
      "execution_count": null,
      "outputs": [
        {
          "output_type": "execute_result",
          "data": {
            "text/plain": [
              "array([[ 8,  9, 10, 11],\n",
              "       [12, 13, 14, 15]])"
            ]
          },
          "metadata": {},
          "execution_count": 65
        }
      ]
    },
    {
      "cell_type": "markdown",
      "source": [
        "## 평균(mean)"
      ],
      "metadata": {
        "id": "BirMFOCVZPrX"
      }
    },
    {
      "cell_type": "code",
      "source": [
        "target = np.ones((10000,100))\n",
        "target.shape"
      ],
      "metadata": {
        "colab": {
          "base_uri": "https://localhost:8080/"
        },
        "id": "03qrGGPEZOA6",
        "outputId": "287e46f9-f9b9-4a35-af18-92e87ddea343"
      },
      "execution_count": null,
      "outputs": [
        {
          "output_type": "execute_result",
          "data": {
            "text/plain": [
              "(10000, 100)"
            ]
          },
          "metadata": {},
          "execution_count": 53
        }
      ]
    },
    {
      "cell_type": "code",
      "source": [
        "mean = target.mean(axis=0)\n",
        "print(mean.shape)\n",
        "print(mean)"
      ],
      "metadata": {
        "colab": {
          "base_uri": "https://localhost:8080/"
        },
        "id": "jm7RCGItZn37",
        "outputId": "f0c733ac-61f3-45e0-869b-62df33cce43c"
      },
      "execution_count": null,
      "outputs": [
        {
          "output_type": "stream",
          "name": "stdout",
          "text": [
            "(100,)\n",
            "[1. 1. 1. 1. 1. 1. 1. 1. 1. 1. 1. 1. 1. 1. 1. 1. 1. 1. 1. 1. 1. 1. 1. 1.\n",
            " 1. 1. 1. 1. 1. 1. 1. 1. 1. 1. 1. 1. 1. 1. 1. 1. 1. 1. 1. 1. 1. 1. 1. 1.\n",
            " 1. 1. 1. 1. 1. 1. 1. 1. 1. 1. 1. 1. 1. 1. 1. 1. 1. 1. 1. 1. 1. 1. 1. 1.\n",
            " 1. 1. 1. 1. 1. 1. 1. 1. 1. 1. 1. 1. 1. 1. 1. 1. 1. 1. 1. 1. 1. 1. 1. 1.\n",
            " 1. 1. 1. 1.]\n"
          ]
        }
      ]
    },
    {
      "cell_type": "code",
      "source": [
        "mean = target.mean(axis=1)\n",
        "print(mean.shape)\n",
        "print(mean)"
      ],
      "metadata": {
        "colab": {
          "base_uri": "https://localhost:8080/"
        },
        "id": "_9fcdeM1ZTue",
        "outputId": "d1c4820f-7302-49b3-9b93-148a3ad4b607"
      },
      "execution_count": null,
      "outputs": [
        {
          "output_type": "stream",
          "name": "stdout",
          "text": [
            "(10000,)\n",
            "[1. 1. 1. ... 1. 1. 1.]\n"
          ]
        }
      ]
    },
    {
      "cell_type": "markdown",
      "source": [
        "# 코드를 통해서 XOR 문제 해결하기"
      ],
      "metadata": {
        "id": "FxLLamwAISJY"
      }
    },
    {
      "cell_type": "code",
      "source": [
        "# 가중치와 바이어스\n",
        "w11 = np.array([-2, -2])\n",
        "w12 = np.array([2, 2])\n",
        "w2 = np.array([1, 1])\n",
        "\n",
        "b1 = 3\n",
        "b2 = -1\n",
        "b3 = -1"
      ],
      "metadata": {
        "id": "c5AAAbW9IQyY"
      },
      "execution_count": null,
      "outputs": []
    },
    {
      "cell_type": "code",
      "source": [
        "# 퍼셉트론\n",
        "def MLP(x, w, b):\n",
        "    y = np.sum(w * x) + b\n",
        "\n",
        "    if y <= 0:\n",
        "        return 0\n",
        "    else:\n",
        "        return 1"
      ],
      "metadata": {
        "id": "h8QlZfXtJv5E"
      },
      "execution_count": null,
      "outputs": []
    },
    {
      "cell_type": "code",
      "source": [
        "# NAND 게이트\n",
        "def NAND(x1,x2):\n",
        "    return MLP(np.array([x1, x2]), w11, b1)\n",
        "\n",
        "# OR 게이트\n",
        "def OR(x1,x2):\n",
        "    return MLP(np.array([x1, x2]), w12, b2)\n",
        "\n",
        "# AND 게이트\n",
        "def AND(x1,x2):\n",
        "    return MLP(np.array([x1, x2]), w2, b3)\n",
        "\n",
        "# XOR 게이트\n",
        "def XOR(x1,x2):\n",
        "    return AND(NAND(x1, x2),OR(x1,x2))"
      ],
      "metadata": {
        "id": "hruqACNnJ4YZ"
      },
      "execution_count": null,
      "outputs": []
    },
    {
      "cell_type": "code",
      "source": [
        "# x1, x2 값을 번갈아 대입해 가며 최종 값 출력\n",
        "for x in [(0, 0), (1, 0), (0, 1), (1, 1)]: # 튜플로 정의합니다.\n",
        "    y = XOR(x[0], x[1])\n",
        "    print(\"입력 값: \" + str(x) + \" 출력 값: \" + str(y))"
      ],
      "metadata": {
        "colab": {
          "base_uri": "https://localhost:8080/"
        },
        "id": "P6Z24XXTJ6I-",
        "outputId": "49c7180b-5c77-4554-a1f3-b4515985f654"
      },
      "execution_count": null,
      "outputs": [
        {
          "output_type": "stream",
          "name": "stdout",
          "text": [
            "입력 값: (0, 0) 출력 값: 0\n",
            "입력 값: (1, 0) 출력 값: 1\n",
            "입력 값: (0, 1) 출력 값: 1\n",
            "입력 값: (1, 1) 출력 값: 0\n"
          ]
        }
      ]
    },
    {
      "cell_type": "markdown",
      "source": [
        "# Multi Perceptron Class 생성을 통해 해결하기"
      ],
      "metadata": {
        "id": "PaqqWAsvJpII"
      }
    },
    {
      "cell_type": "code",
      "source": [
        "# XOR 문제를 해결하기 위한 다층 퍼셉트론\n",
        "class SimpleMLP:\n",
        "    def __init__(self):\n",
        "        # 수동으로 설정한 가중치와 바이어스\n",
        "        # weights_input_hidden 가중치\n",
        "        # bias_hidden 평행값\n",
        "        self.weights_input_hidden = np.array([[-2, 2], [-2, 2]])  # x1, x2 -> n1, n2 계산을 위한 가중치 배열\n",
        "        self.bias_hidden = np.array([3, -1])  # x1, x2 -> n1, n2\n",
        "\n",
        "        # 출력층: 1개의 뉴런\n",
        "        self.weights_hidden_output = np.array([1, 1])  # n1, n2 -> y 가중치\n",
        "        self.bias_output = -1  # n1, n2 -> y 바이어스\n",
        "\n",
        "    def forward(self, X):\n",
        "        # 은닉층 계산\n",
        "        hidden_input = np.dot(X, self.weights_input_hidden) + self.bias_hidden\n",
        "        hidden_output = np.where(hidden_input <= 0, 0, 1)\n",
        "        print(f\"hidden_output : {hidden_input}\")\n",
        "\n",
        "        # 출력층 계산\n",
        "        final_input = np.dot(hidden_output, self.weights_hidden_output) + self.bias_output\n",
        "        final_output = np.where(final_input <= 0, 0, 1)\n",
        "        print(f\"final_output : {final_input}\")\n",
        "\n",
        "        return final_output"
      ],
      "metadata": {
        "id": "m57gn3nTaM9L"
      },
      "execution_count": null,
      "outputs": []
    },
    {
      "cell_type": "code",
      "source": [
        "# XOR 데이터셋 정의\n",
        "XOR_X = np.array([[0, 0], [0, 1], [1, 0], [1, 1]])  # 입력값\n",
        "XOR_y = np.array([0, 1, 1, 0])  # XOR 출력값"
      ],
      "metadata": {
        "id": "5kAc9kaHaRwu"
      },
      "execution_count": null,
      "outputs": []
    },
    {
      "cell_type": "code",
      "source": [
        "# 모델 초기화\n",
        "mlp = SimpleMLP()"
      ],
      "metadata": {
        "id": "uqNZS7fmaTwM"
      },
      "execution_count": null,
      "outputs": []
    },
    {
      "cell_type": "code",
      "source": [
        "# 예측\n",
        "predictions = mlp.forward(XOR_X)\n",
        "# 결과 출력\n",
        "print(f\"XOR 문제 예측 결과: {predictions}\")"
      ],
      "metadata": {
        "colab": {
          "base_uri": "https://localhost:8080/"
        },
        "id": "emQQfaBebYJ7",
        "outputId": "82ccb952-d345-4c20-8eca-4bcbead3d52e"
      },
      "execution_count": null,
      "outputs": [
        {
          "output_type": "stream",
          "name": "stdout",
          "text": [
            "hidden_output : [[ 3 -1]\n",
            " [ 1  1]\n",
            " [ 1  1]\n",
            " [-1  3]]\n",
            "final_output : [0 1 1 0]\n",
            "XOR 문제 예측 결과: [0 1 1 0]\n"
          ]
        }
      ]
    }
  ]
}